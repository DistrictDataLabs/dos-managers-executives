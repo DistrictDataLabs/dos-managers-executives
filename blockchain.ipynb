{
 "cells": [
  {
   "cell_type": "markdown",
   "metadata": {
    "deletable": true,
    "editable": true
   },
   "source": [
    "# Proof of Work"
   ]
  },
  {
   "cell_type": "code",
   "execution_count": null,
   "metadata": {
    "collapsed": true,
    "deletable": true,
    "editable": true
   },
   "outputs": [],
   "source": [
    "import requests\n",
    "import json"
   ]
  },
  {
   "cell_type": "markdown",
   "metadata": {
    "deletable": true,
    "editable": true
   },
   "source": [
    "## Hashing Example"
   ]
  },
  {
   "cell_type": "code",
   "execution_count": null,
   "metadata": {
    "collapsed": false,
    "deletable": true,
    "editable": true
   },
   "outputs": [],
   "source": [
    "from hashlib import sha256\n",
    "dog = 'Moose'\n",
    "dog_encoded = dog.encode('utf-8')\n",
    "sha256(dog_encoded).hexdigest()"
   ]
  },
  {
   "cell_type": "code",
   "execution_count": null,
   "metadata": {
    "collapsed": false,
    "deletable": true,
    "editable": true
   },
   "outputs": [],
   "source": [
    "from hashlib import sha256\n",
    "\n",
    "def find_hash(num_zeros):\n",
    "    nonce = 1\n",
    "    dog = 'Moose'\n",
    "\n",
    "    while True:\n",
    "        dog_nonce = dog + str(nonce)\n",
    "        dog_nonce_encoded = dog_nonce.encode('utf-8')\n",
    "        _hash_ = sha256(dog_nonce_encoded).hexdigest()\n",
    "        if _hash_.startswith(num_zeros * '0'):\n",
    "            return nonce, _hash_\n",
    "        else:\n",
    "            nonce += 1\n",
    "            print(nonce)"
   ]
  },
  {
   "cell_type": "code",
   "execution_count": null,
   "metadata": {
    "collapsed": false,
    "deletable": true,
    "editable": true
   },
   "outputs": [],
   "source": [
    "%time nonce, _hash_ = find_hash(2)\n",
    "print(\"Nonce: {}\".format(nonce))\n",
    "print(\"Hash: {}\".format(_hash_))"
   ]
  }
 ],
 "metadata": {
  "kernelspec": {
   "display_name": "Python 3",
   "language": "python",
   "name": "python3"
  },
  "language_info": {
   "codemirror_mode": {
    "name": "ipython",
    "version": 3
   },
   "file_extension": ".py",
   "mimetype": "text/x-python",
   "name": "python",
   "nbconvert_exporter": "python",
   "pygments_lexer": "ipython3",
   "version": "3.5.3"
  }
 },
 "nbformat": 4,
 "nbformat_minor": 2
}
