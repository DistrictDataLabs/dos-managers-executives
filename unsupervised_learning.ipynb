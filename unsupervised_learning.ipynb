{
 "cells": [
  {
   "cell_type": "markdown",
   "metadata": {},
   "source": [
    "# Unsupervised Learning\n",
    "This notebook demonstrates unsupervised learning techniques. \n",
    "\n",
    "If you are interested in identifying hidden patterns in data, specifically unlabelled (or unstructured) data, then this notebook will help guide you through unsupervised learning from data with Python. We'll use some key Python statistics and machine learning libaries:\n",
    "\n",
    "* `sci-kit learn`\n",
    "* `statsmodels`\n",
    "\n",
    "For data, we've already collected over 200 speeches from the U.S. Secretary of Defense from the last 4 years. If you're curious to learn about webscraping or how this data was acquired, check out the notebook `data_collection.ipynb`. This is _text_, so it is inherently unstructured data. We'll use some basic natural language processing (NLP) techniques to convert this text into structured data.\n",
    "\n",
    "Let's get started by importing some packages we'll need:"
   ]
  },
  {
   "cell_type": "code",
   "execution_count": 4,
   "metadata": {},
   "outputs": [],
   "source": [
    "import numpy as np\n",
    "import pandas as pd\n",
    "import re\n",
    "\n",
    "import nltk\n",
    "from nltk.corpus import stopwords\n",
    "from nltk.stem.snowball import SnowballStemmer\n",
    "\n",
    "from sklearn import feature_extraction\n",
    "from sklearn.preprocessing import MinMaxScaler\n",
    "from sklearn.decomposition import PCA\n",
    "from sklearn.manifold import TSNE\n",
    "from sklearn.cluster import DBSCAN\n",
    "from sklearn.metrics.pairwise import cosine_similarity\n",
    "\n",
    "import seaborn as sns\n",
    "import matplotlib.pyplot as plt\n",
    "%matplotlib inline"
   ]
  },
  {
   "cell_type": "markdown",
   "metadata": {},
   "source": [
    "### Dealing with stopwords"
   ]
  },
  {
   "cell_type": "markdown",
   "metadata": {},
   "source": [
    "Now, let's make sure that we have loaded NLTK's (a key Python NLP library) stopwords:"
   ]
  },
  {
   "cell_type": "code",
   "execution_count": 6,
   "metadata": {},
   "outputs": [
    {
     "name": "stderr",
     "output_type": "stream",
     "text": [
      "[nltk_data] Downloading package stopwords to\n",
      "[nltk_data]     /Users/brandon/nltk_data...\n",
      "[nltk_data]   Package stopwords is already up-to-date!\n"
     ]
    },
    {
     "data": {
      "text/plain": [
       "True"
      ]
     },
     "execution_count": 6,
     "metadata": {},
     "output_type": "execute_result"
    }
   ],
   "source": [
    "nltk.download('stopwords')"
   ]
  },
  {
   "cell_type": "markdown",
   "metadata": {},
   "source": [
    "Stopwords are words that are common to language and are important in context, but don't carry significant semantic meaning with respect to an overall text. For example, if you were looking at a news article about nuclear weapons in North Korea you could determine what the article was about based on the frequency of words like \"nuclear\", \"weapons\", and \"North Korea\". You wouldn't be able to learn much from words like \"who\", \"when\", \"our\", \"me\", etc.\n",
    "\n",
    "Let's load nltk's English stopwords as variable called `stopwords`:"
   ]
  },
  {
   "cell_type": "code",
   "execution_count": 7,
   "metadata": {},
   "outputs": [
    {
     "name": "stdout",
     "output_type": "stream",
     "text": [
      "['i', 'me', 'my', 'myself', 'we', 'our', 'ours', 'ourselves', 'you', \"you're\"]\n"
     ]
    }
   ],
   "source": [
    "stopwords = stopwords.words('english')\n",
    "print(stopwords[:10])"
   ]
  },
  {
   "cell_type": "markdown",
   "metadata": {},
   "source": [
    "### Tokenization and stemming"
   ]
  },
  {
   "cell_type": "markdown",
   "metadata": {},
   "source": [
    "Next, we are going to define some functions to help us resolve words like \"ran\", \"running\", \"runs\" into a canonical (or _stemmed_) form (e.g. \"run\"). We'll use the NLTK [Snowball Stemmer](https://www.nltk.org/_modules/nltk/stem/snowball.html)."
   ]
  },
  {
   "cell_type": "code",
   "execution_count": 8,
   "metadata": {},
   "outputs": [],
   "source": [
    "stemmer = SnowballStemmer(\"english\")"
   ]
  },
  {
   "cell_type": "code",
   "execution_count": 9,
   "metadata": {},
   "outputs": [
    {
     "data": {
      "text/plain": [
       "'run'"
      ]
     },
     "execution_count": 9,
     "metadata": {},
     "output_type": "execute_result"
    }
   ],
   "source": [
    "stemmer.stem('runs')"
   ]
  },
  {
   "cell_type": "code",
   "execution_count": 10,
   "metadata": {},
   "outputs": [],
   "source": [
    "def tokenize_and_stem(text):\n",
    "    # first tokenize by sentence, then by word to ensure that punctuation is caught as it's own token\n",
    "    tokens = [word for sent in nltk.sent_tokenize(text) for word in nltk.word_tokenize(sent)]\n",
    "    filtered_tokens = []\n",
    "    # filter out any tokens not containing letters (e.g., numeric tokens, raw punctuation)\n",
    "    for token in tokens:\n",
    "        if re.search('[a-zA-Z]', token):\n",
    "            if len(token) >= 4:\n",
    "                filtered_tokens.append(token)\n",
    "    stems = [stemmer.stem(t) for t in filtered_tokens]\n",
    "    return stems\n",
    "\n",
    "\n",
    "def tokenize_only(text):\n",
    "    # first tokenize by sentence, then by word to ensure that punctuation is caught as it's own token\n",
    "    tokens = [word.lower() for sent in nltk.sent_tokenize(text) for word in nltk.word_tokenize(sent)]\n",
    "    filtered_tokens = []\n",
    "    # filter out any tokens not containing letters (e.g., numeric tokens, raw punctuation)\n",
    "    for token in tokens:\n",
    "        if re.search('[a-zA-Z]', token):\n",
    "            if len(token) >= 4:\n",
    "                filtered_tokens.append(token)\n",
    "    return filtered_tokens"
   ]
  },
  {
   "cell_type": "markdown",
   "metadata": {},
   "source": [
    "Note that we'll also need to **_tokenize_** the speeches. This is the process of converting text into words.\n",
    "\n",
    "For example, we would take \n",
    "```\n",
    "\"The quick brown fox jumped over the lazy dog.\"\n",
    "```\n",
    "\n",
    "and tokenize it into:\n",
    "```\n",
    "[\"The\", \"quick\", \"brown\", \"fox\", \"jumped\", \"over\", \"the\", \"lazy\", \"dog\", \".\"]\n",
    "```\n",
    "\n",
    "This lets us generate frequency counts of words within speeches."
   ]
  },
  {
   "cell_type": "markdown",
   "metadata": {},
   "source": [
    "### Parsing our data\n",
    "Let's read in the speeches as a dataframe and take a look at what we're dealing with!"
   ]
  },
  {
   "cell_type": "code",
   "execution_count": 14,
   "metadata": {},
   "outputs": [
    {
     "data": {
      "text/html": [
       "<div>\n",
       "<style scoped>\n",
       "    .dataframe tbody tr th:only-of-type {\n",
       "        vertical-align: middle;\n",
       "    }\n",
       "\n",
       "    .dataframe tbody tr th {\n",
       "        vertical-align: top;\n",
       "    }\n",
       "\n",
       "    .dataframe thead th {\n",
       "        text-align: right;\n",
       "    }\n",
       "</style>\n",
       "<table border=\"1\" class=\"dataframe\">\n",
       "  <thead>\n",
       "    <tr style=\"text-align: right;\">\n",
       "      <th></th>\n",
       "      <th>date</th>\n",
       "      <th>speech</th>\n",
       "      <th>title</th>\n",
       "      <th>url</th>\n",
       "    </tr>\n",
       "  </thead>\n",
       "  <tbody>\n",
       "    <tr>\n",
       "      <th>0</th>\n",
       "      <td>December 25, 2018</td>\n",
       "      <td>\\nOn behalf of the Department of State, I woul...</td>\n",
       "      <td>On the Occasion of Christmas</td>\n",
       "      <td>http://www.state.gov/secretary/remarks/2018/12...</td>\n",
       "    </tr>\n",
       "    <tr>\n",
       "      <th>1</th>\n",
       "      <td>December 21, 2018</td>\n",
       "      <td>\\nQUESTION: Thanks very much for taking the ti...</td>\n",
       "      <td>Interview With Steve Inskeep of NPR</td>\n",
       "      <td>http://www.state.gov/secretary/remarks/2018/12...</td>\n",
       "    </tr>\n",
       "    <tr>\n",
       "      <th>2</th>\n",
       "      <td>December 20, 2018</td>\n",
       "      <td>\\nQUESTION: Good morning, Secretary. How are y...</td>\n",
       "      <td>Interview With Brian Grimmett of KMUW Wichita ...</td>\n",
       "      <td>http://www.state.gov/secretary/remarks/2018/12...</td>\n",
       "    </tr>\n",
       "    <tr>\n",
       "      <th>3</th>\n",
       "      <td>December 20, 2018</td>\n",
       "      <td>\\nQUESTION: (Inaudible.)\\n\\n\\nSECRETARY POMPEO...</td>\n",
       "      <td>Interview With Bryce Dolan of 550 KFRM-AM</td>\n",
       "      <td>http://www.state.gov/secretary/remarks/2018/12...</td>\n",
       "    </tr>\n",
       "    <tr>\n",
       "      <th>4</th>\n",
       "      <td>December 20, 2018</td>\n",
       "      <td>\\nQUESTION: Pompeo is with us now. I don’t kno...</td>\n",
       "      <td>Interview With Laura Ingraham of The Laura Ing...</td>\n",
       "      <td>http://www.state.gov/secretary/remarks/2018/12...</td>\n",
       "    </tr>\n",
       "  </tbody>\n",
       "</table>\n",
       "</div>"
      ],
      "text/plain": [
       "                date                                             speech  \\\n",
       "0  December 25, 2018  \\nOn behalf of the Department of State, I woul...   \n",
       "1  December 21, 2018  \\nQUESTION: Thanks very much for taking the ti...   \n",
       "2  December 20, 2018  \\nQUESTION: Good morning, Secretary. How are y...   \n",
       "3  December 20, 2018  \\nQUESTION: (Inaudible.)\\n\\n\\nSECRETARY POMPEO...   \n",
       "4  December 20, 2018  \\nQUESTION: Pompeo is with us now. I don’t kno...   \n",
       "\n",
       "                                               title  \\\n",
       "0                       On the Occasion of Christmas   \n",
       "1                Interview With Steve Inskeep of NPR   \n",
       "2  Interview With Brian Grimmett of KMUW Wichita ...   \n",
       "3          Interview With Bryce Dolan of 550 KFRM-AM   \n",
       "4  Interview With Laura Ingraham of The Laura Ing...   \n",
       "\n",
       "                                                 url  \n",
       "0  http://www.state.gov/secretary/remarks/2018/12...  \n",
       "1  http://www.state.gov/secretary/remarks/2018/12...  \n",
       "2  http://www.state.gov/secretary/remarks/2018/12...  \n",
       "3  http://www.state.gov/secretary/remarks/2018/12...  \n",
       "4  http://www.state.gov/secretary/remarks/2018/12...  "
      ]
     },
     "execution_count": 14,
     "metadata": {},
     "output_type": "execute_result"
    }
   ],
   "source": [
    "df = pd.read_csv('datasets/SecState_Speeches.csv')\n",
    "df.head()"
   ]
  },
  {
   "cell_type": "markdown",
   "metadata": {},
   "source": [
    "Now we can tokenize and stem the speeches:"
   ]
  },
  {
   "cell_type": "code",
   "execution_count": 15,
   "metadata": {},
   "outputs": [],
   "source": [
    "totalvocab_stemmed = []\n",
    "totalvocab_tokenized = []\n",
    "\n",
    "for i in df.speech:\n",
    "    allwords_stemmed = tokenize_and_stem(i)\n",
    "    totalvocab_stemmed.extend(allwords_stemmed)\n",
    "\n",
    "    allwords_tokenized = tokenize_only(i)\n",
    "    totalvocab_tokenized.extend(allwords_tokenized)"
   ]
  },
  {
   "cell_type": "markdown",
   "metadata": {},
   "source": [
    "We need to generate a vocabulary: this will be a mapping from stemmed version of words back to their original form. That way we can lookup a stemmed word and back into what it actually was (in human readable form)."
   ]
  },
  {
   "cell_type": "code",
   "execution_count": 16,
   "metadata": {},
   "outputs": [
    {
     "name": "stdout",
     "output_type": "stream",
     "text": [
      "There are 186901 items in our vocabulary.\n"
     ]
    }
   ],
   "source": [
    "vocab = pd.DataFrame({'words': totalvocab_tokenized}, index = totalvocab_stemmed)\n",
    "print('There are ' + str(vocab.shape[0]) + ' items in our vocabulary.')"
   ]
  },
  {
   "cell_type": "markdown",
   "metadata": {},
   "source": [
    "### tf-idf and calculating document similarity\n",
    "To get a ff-idf matrix, first count word occurrences by document. This is transformed into a document-term matrix (dtm). This is also just called a term frequency matrix.\n",
    "\n",
    "Then apply the term frequency-inverse document frequency weighting: words that occur frequently within a document but not frequently within the corpus receive a higher weighting as these words are assumed to contain more meaning in relation to the document. \n",
    "\n",
    "We will use this tf-idf matrix as a structured representation of the relationship between documents. We can use this to perform unsupervised learning: "
   ]
  },
  {
   "cell_type": "code",
   "execution_count": 17,
   "metadata": {},
   "outputs": [
    {
     "name": "stderr",
     "output_type": "stream",
     "text": [
      "/Users/brandon/anaconda/envs/p3/lib/python3.5/site-packages/sklearn/feature_extraction/text.py:300: UserWarning: Your stop_words may be inconsistent with your preprocessing. Tokenizing the stop words generated tokens ['abov', 'afterward', 'alon', 'alreadi', 'alway', 'anoth', 'anyon', 'anyth', 'anywher', 'becam', 'becaus', 'becom', 'befor', 'besid', 'describ', 'dure', 'els', 'elsewher', 'empti', 'everi', 'everyon', 'everyth', 'everywher', 'fifti', 'forti', 'henc', 'hereaft', 'herebi', 'howev', 'hundr', 'inde', 'mani', 'meanwhil', 'moreov', 'nobodi', 'noon', 'noth', 'nowher', 'onc', 'onli', 'otherwis', 'ourselv', 'perhap', 'pleas', 'sever', 'sinc', 'sincer', 'sixti', 'someon', 'someth', 'sometim', 'somewher', 'themselv', 'thenc', 'thereaft', 'therebi', 'therefor', 'togeth', 'twelv', 'twenti', 'veri', 'whatev', 'whenc', 'whenev', 'wherea', 'whereaft', 'wherebi', 'wherev', 'yourselv'] not in stop_words.\n",
      "  'stop_words.' % sorted(inconsistent))\n"
     ]
    },
    {
     "name": "stdout",
     "output_type": "stream",
     "text": [
      "CPU times: user 8.77 s, sys: 66.4 ms, total: 8.83 s\n",
      "Wall time: 8.85 s\n",
      "(384, 575)\n"
     ]
    }
   ],
   "source": [
    "from sklearn.feature_extraction.text import TfidfVectorizer\n",
    "\n",
    "#define vectorizer parameters\n",
    "tfidf_vectorizer = TfidfVectorizer(max_df=0.8, max_features=200000,\n",
    "                                 min_df=0.1, stop_words='english',\n",
    "                                 use_idf=True, tokenizer=tokenize_and_stem, ngram_range=(1,3))\n",
    "\n",
    "%time tfidf_matrix = tfidf_vectorizer.fit_transform(df.speech) #fit the vectorizer to speeches\n",
    "\n",
    "print(tfidf_matrix.shape)"
   ]
  },
  {
   "cell_type": "markdown",
   "metadata": {},
   "source": [
    "Note that the tf-idf matrix has 204 rows (one for each speech) and 1,593 columns (one for each word which met the thresholds we specified for our `TfidfVectorizer`.\n",
    "\n",
    "We can get all the terms from our tf-idf matrix:"
   ]
  },
  {
   "cell_type": "code",
   "execution_count": 18,
   "metadata": {},
   "outputs": [],
   "source": [
    "terms = tfidf_vectorizer.get_feature_names()"
   ]
  },
  {
   "cell_type": "markdown",
   "metadata": {},
   "source": [
    "### K-means clustering\n",
    "Now we're ready to perform clustering on our speeches. We'll pick an arbitrary, but human understandable, number of clusters. Let's try for 12 clusters."
   ]
  },
  {
   "cell_type": "code",
   "execution_count": 19,
   "metadata": {},
   "outputs": [
    {
     "name": "stdout",
     "output_type": "stream",
     "text": [
      "CPU times: user 2.75 s, sys: 8.26 ms, total: 2.75 s\n",
      "Wall time: 2.76 s\n"
     ]
    }
   ],
   "source": [
    "from sklearn.cluster import KMeans\n",
    "\n",
    "num_clusters = 6\n",
    "\n",
    "km = KMeans(n_clusters=num_clusters)\n",
    "\n",
    "%time km.fit(tfidf_matrix)\n",
    "\n",
    "clusters = km.labels_.tolist()"
   ]
  },
  {
   "cell_type": "markdown",
   "metadata": {},
   "source": [
    "We need to add the cluster labels to our dataset. This let's us see how many speeches ended up in each cluster:"
   ]
  },
  {
   "cell_type": "code",
   "execution_count": 20,
   "metadata": {},
   "outputs": [
    {
     "data": {
      "text/plain": [
       "cluster\n",
       "0     37\n",
       "1     44\n",
       "2     72\n",
       "3     74\n",
       "4     19\n",
       "5    138\n",
       "Name: cluster, dtype: int64"
      ]
     },
     "execution_count": 20,
     "metadata": {},
     "output_type": "execute_result"
    }
   ],
   "source": [
    "df['cluster'] = clusters\n",
    "df.groupby('cluster')['cluster'].count()"
   ]
  },
  {
   "cell_type": "markdown",
   "metadata": {},
   "source": [
    "Now we can inspect the top terms in each of these clusters and compare them with the speech titles. This should give us a good sense of whether or not our clustering was successful."
   ]
  },
  {
   "cell_type": "code",
   "execution_count": 22,
   "metadata": {
    "scrolled": false
   },
   "outputs": [
    {
     "name": "stdout",
     "output_type": "stream",
     "text": [
      "\u001b[1mTop terms per cluster:\u001b[0m\n",
      "\n",
      "\u001b[94m\u001b[1mCluster 0 Words:\u001b[0m\n",
      "\t-secretary\n",
      "\t-north\n",
      "\t-korea\n",
      "\t-north\n",
      "\t-president\n",
      "\t-thanks\n",
      "\t-question\n",
      "\t-china\n",
      "\t-pompeo\n",
      "\t-secretary\n",
      "\n",
      "\u001b[92m\u001b[1mCluster 0 Speech Titles:\n",
      "\u001b[0m\n",
      "\t- Press Availability at the U.S. - Canada 2+2 Ministerial\n",
      "\t- Press Availability With Secretary of Defense James Mattis, Chinese Politburo Member Yang Jiechi, and\n",
      "\t- Remarks to Traveling Press\n",
      "\t- Remarks at the Conference on Prosperity and Security in Central America\n",
      "\t- Remarks With Chinese Director of the Central Foreign Affairs Commission Office Yang Jiechi Before Th\n",
      "\t- Remarks With Chinese Foreign Minister Wang Yi Before Their Meeting\n",
      "\t- Remarks With South Korean President Moon Jae-in\n",
      "\t- Remarks With Japanese Prime Minister Shinzo Abe\n",
      "\t- Remarks at a Meeting on the Democratic People's Republic of Korea\n",
      "\t- On the Outcome of Summit Meeting Between President Moon and Chairman Kim\n",
      "\n",
      "\n",
      "\n",
      "\u001b[94m\u001b[1mCluster 1 Words:\u001b[0m\n",
      "\t-embedded_plugin_status\n",
      "\t-embedded_plugin_q\n",
      "\t-embedded_plugin_status\n",
      "\t-typeof\n",
      "\t-.push\n",
      "\t-embedded_plugin_q\n",
      "\t-undefined\n",
      "\t-else\n",
      "\t-function\n",
      "\t-else\n",
      "\n",
      "\u001b[92m\u001b[1mCluster 1 Speech Titles:\n",
      "\u001b[0m\n",
      "\t- Press Availability at the United Nations\n",
      "\t- Press Availability at NATO Headquarters\n",
      "\t- Remarks With NATO Secretary General Jens Stoltenberg Before Their Meeting\n",
      "\t- Restoring the Role of the Nation-State in the Liberal International Order\n",
      "\t- Remarks at the PEPFAR Faith Communities and HIV Technical Summit\n",
      "\t- Remarks to the Press\n",
      "\t- Secretary of State Michael R. Pompeo and Ukrainian Foreign Minister Pavlo Klimkin Statements to the \n",
      "\t- Remarks at the 36th Annual Jewish Institute for National Security of America Awards Dinner\n",
      "\t- Remarks to the Media\n",
      "\t- Remarks at the 13th Annual Values Voter Summit\n",
      "\n",
      "\n",
      "\n",
      "\u001b[94m\u001b[1mCluster 2 Words:\u001b[0m\n",
      "\t-question\n",
      "\t-secretary\n",
      "\t-pompeo\n",
      "\t-secretary\n",
      "\t-president\n",
      "\t-think\n",
      "\t-very\n",
      "\t-make\n",
      "\t-country\n",
      "\t-time\n",
      "\n",
      "\u001b[92m\u001b[1mCluster 2 Speech Titles:\n",
      "\u001b[0m\n",
      "\t- Interview With Steve Inskeep of NPR\n",
      "\t- Interview With Brian Grimmett of KMUW Wichita Public Radio\n",
      "\t- Interview With Bryce Dolan of 550 KFRM-AM\n",
      "\t- Interview With Laura Ingraham of The Laura Ingraham Show\n",
      "\t- Interview With Steve and Ted in the Morning of KNSS Radio\n",
      "\t- Interview With Fox & Friends\n",
      "\t- Interview With Hugh Hewitt of the Hugh Hewitt Show\n",
      "\t- Interview With Andrew Yates of Bott Radio Network\n",
      "\t- Interview With Lukas & Careth In The Morning, B98 FM\n",
      "\t- Interview With Gesell Tobias of Voice of America Latin America\n",
      "\n",
      "\n",
      "\n",
      "\u001b[94m\u001b[1mCluster 3 Words:\u001b[0m\n",
      "\t-freedom\n",
      "\t-peaceful\n",
      "\t-government\n",
      "\t-world\n",
      "\t-u.s.\n",
      "\t-internal\n",
      "\t-today\n",
      "\t-support\n",
      "\t-human\n",
      "\t-department\n",
      "\n",
      "\u001b[92m\u001b[1mCluster 3 Speech Titles:\n",
      "\u001b[0m\n",
      "\t- On the Occasion of Christmas\n",
      "\t- United States Action To Confront Illegal Immigration\n",
      "\t- Bulgaria's Defense Modernization\n",
      "\t- Conclusion of Yemen Consultations in Sweden\n",
      "\t- Religious Freedom Designations\n",
      "\t- Human Rights Day\n",
      "\t- On Senegal's Millennium Challenge Compact\n",
      "\t- International Anticorruption Day\n",
      "\t- On the Passing of President George H. W. Bush\n",
      "\t- The U.S.-Saudi Partnership Is Vital\n",
      "\n",
      "\n",
      "\n",
      "\u001b[94m\u001b[1mCluster 4 Words:\u001b[0m\n",
      "\t-iran\n",
      "\t-iranian\n",
      "\t-regime\n",
      "\t-nuclear\n",
      "\t-missiles\n",
      "\t-activity\n",
      "\t-sanctions\n",
      "\t-secretary\n",
      "\t-threat\n",
      "\t-question\n",
      "\n",
      "\u001b[92m\u001b[1mCluster 4 Speech Titles:\n",
      "\u001b[0m\n",
      "\t- Remarks at the United Nations Security Council Meeting on Iran\n",
      "\t- Iran Test Launches Ballistic Missile Violating UN Security Council Ban\n",
      "\t- Iran's President Works To Further Isolate Iranian Regime From Both World and Iranian People\n",
      "\t- Interview With Hadi Nili of BBC Persian\n",
      "\t- Press Availability With Secretary of Treasury Steven T. Mnuchin\n",
      "\t- Briefing on Iran Sanctions\n",
      "\t- Confronting Iran: The Trump Administration's Strategy\n",
      "\t- Extradition of Iranian Official Asadollah Assadi for Role in Paris Terrorist Plot \n",
      "\t- On U.S. Appearance Before the International Court of Justice\n",
      "\t- Threats to American Personnel and Facilities in Iraq\n",
      "\n",
      "\n",
      "\n",
      "\u001b[94m\u001b[1mCluster 5 Words:\u001b[0m\n",
      "\t-independent\n",
      "\t-celebrating\n",
      "\t-congratulations\n",
      "\t-wish\n",
      "\t-behalf\n",
      "\t-government\n",
      "\t-government\n",
      "\t-government\n",
      "\t-behalf\n",
      "\t-behalf\n",
      "\n",
      "\u001b[92m\u001b[1mCluster 5 Speech Titles:\n",
      "\u001b[0m\n",
      "\t- Bhutan National Day\n",
      "\t- Kazakhstan's Independence Day\n",
      "\t- The Republic of Kenya's National Day\n",
      "\t- Burkina Faso's National Day\n",
      "\t- Bicentennial Statement to Cabo Verde\n",
      "\t- Finland National Day\n",
      "\t- Thailand National Day\n",
      "\t- Central African Republic National Day\n",
      "\t- Barbados Independence Day\n",
      "\t- Lao People's Democratic Republic National Day\n",
      "\n",
      "\n",
      "\n",
      "\n",
      "\n"
     ]
    }
   ],
   "source": [
    "class color:\n",
    "   PURPLE = '\\033[95m'\n",
    "   CYAN = '\\033[96m'\n",
    "   DARKCYAN = '\\033[36m'\n",
    "   BLUE = '\\033[94m'\n",
    "   GREEN = '\\033[92m'\n",
    "   YELLOW = '\\033[93m'\n",
    "   RED = '\\033[91m'\n",
    "   BOLD = '\\033[1m'\n",
    "   UNDERLINE = '\\033[4m'\n",
    "   END = '\\033[0m'\n",
    "\n",
    "print(\"{0}Top terms per cluster:{1}\".format(color.BOLD,color.END))\n",
    "print()\n",
    "#sort cluster centers by proximity to centroid\n",
    "order_centroids = km.cluster_centers_.argsort()[:, ::-1] \n",
    "\n",
    "for i in range(num_clusters):\n",
    "    print(\"{0}Cluster {1} Words:{2}\".format(color.BLUE + color.BOLD, i, color.END))\n",
    "    \n",
    "    for ind in order_centroids[i, :10]:\n",
    "        word = str(vocab.loc[terms[ind].split(' ')].values.tolist()[0][0])\n",
    "        print('\\t-{0}'.format(word))\n",
    "    print('')\n",
    "    \n",
    "    print(\"{0}Cluster {1} Speech Titles:\\n{2}\".format(color.GREEN + color.BOLD, i, color.END))\n",
    "    titles = df[df['cluster'] == i].title\n",
    "    for title in titles[:10]:\n",
    "        print('\\t- {0}'.format(title[:100]))\n",
    "    print('\\n\\n')\n",
    "    \n",
    "print('\\n')"
   ]
  },
  {
   "cell_type": "markdown",
   "metadata": {},
   "source": [
    "### Visualizing our clusters"
   ]
  },
  {
   "cell_type": "markdown",
   "metadata": {},
   "source": [
    "Let's use t-Distributed Stochastic Neighbor Embedding, or [t-SNE ](https://lvdmaaten.github.io/tsne/), for dimensionality reduction. This let's us project highly dimensional data, such as our tfidf matrix, into 2 dimensional space. This will let us visualize the clustering in 2-dimensions. Remember that much is lost projecting data with over 1500 features into 2d space!"
   ]
  },
  {
   "cell_type": "code",
   "execution_count": 23,
   "metadata": {},
   "outputs": [],
   "source": [
    "data = tfidf_matrix.toarray()\n",
    "projection = TSNE().fit_transform(data)"
   ]
  },
  {
   "cell_type": "code",
   "execution_count": 24,
   "metadata": {},
   "outputs": [
    {
     "data": {
      "image/png": "[encoded data removed]",
      "text/plain": [
       "<matplotlib.figure.Figure at 0x1190a8240>"
      ]
     },
     "metadata": {
      "needs_background": "light"
     },
     "output_type": "display_data"
    }
   ],
   "source": [
    "sns.set_context('poster')\n",
    "sns.set_color_codes()\n",
    "plot_kwds = {'marker': 'o', 'alpha' : 0.75, 's' : 150, 'linewidths':0}\n",
    "\n",
    "labels = clusters\n",
    "palette = sns.color_palette(palette='deep', n_colors=np.unique(labels).max() + 1)\n",
    "colors = [palette[x] if x >= 0 else (0.75, 0.75, 0.75) for x in labels]\n",
    "\n",
    "fig, ax = plt.subplots(figsize=(12, 8))\n",
    "ax.margins(0.05)\n",
    "\n",
    "plt.scatter(*projection.T, c=colors, **plot_kwds)\n",
    "frame = plt.gca()\n",
    "frame.axes.get_xaxis().set_visible(False)\n",
    "frame.axes.get_yaxis().set_visible(False)\n",
    "\n",
    "\n",
    "plt.show()"
   ]
  }
 ],
 "metadata": {
  "kernelspec": {
   "display_name": "Python 3",
   "language": "python",
   "name": "python3"
  },
  "language_info": {
   "codemirror_mode": {
    "name": "ipython",
    "version": 3
   },
   "file_extension": ".py",
   "mimetype": "text/x-python",
   "name": "python",
   "nbconvert_exporter": "python",
   "pygments_lexer": "ipython3",
   "version": "3.5.3"
  }
 },
 "nbformat": 4,
 "nbformat_minor": 2
}
