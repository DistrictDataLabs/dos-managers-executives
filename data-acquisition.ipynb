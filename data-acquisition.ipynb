{
 "cells": [
  {
   "cell_type": "markdown",
   "metadata": {},
   "source": [
    "# CSV"
   ]
  },
  {
   "cell_type": "code",
   "execution_count": 151,
   "metadata": {
    "collapsed": false
   },
   "outputs": [],
   "source": [
    "import pandas as pd"
   ]
  },
  {
   "cell_type": "markdown",
   "metadata": {},
   "source": [
    "We can print the first three lines of the CSV and confirm it looks like plain text! Crop data is [available from the FAO here](http://www.fao.org/faostat/en/#data/QC)."
   ]
  },
  {
   "cell_type": "code",
   "execution_count": 4,
   "metadata": {
    "collapsed": false
   },
   "outputs": [
    {
     "name": "stdout",
     "output_type": "stream",
     "text": [
      "Area Code,Area,Item Code,Item,Element Code,Element,Unit,Y1961,Y1961F,Y1962,Y1962F,Y1963,Y1963F,Y1964,Y1964F,Y1965,Y1965F,Y1966,Y1966F,Y1967,Y1967F,Y1968,Y1968F,Y1969,Y1969F,Y1970,Y1970F,Y1971,Y1971F,Y1972,Y1972F,Y1973,Y1973F,Y1974,Y1974F,Y1975,Y1975F,Y1976,Y1976F,Y1977,Y1977F,Y1978,Y1978F,Y1979,Y1979F,Y1980,Y1980F,Y1981,Y1981F,Y1982,Y1982F,Y1983,Y1983F,Y1984,Y1984F,Y1985,Y1985F,Y1986,Y1986F,Y1987,Y1987F,Y1988,Y1988F,Y1989,Y1989F,Y1990,Y1990F,Y1991,Y1991F,Y1992,Y1992F,Y1993,Y1993F,Y1994,Y1994F,Y1995,Y1995F,Y1996,Y1996F,Y1997,Y1997F,Y1998,Y1998F,Y1999,Y1999F,Y2000,Y2000F,Y2001,Y2001F,Y2002,Y2002F,Y2003,Y2003F,Y2004,Y2004F,Y2005,Y2005F,Y2006,Y2006F,Y2007,Y2007F,Y2008,Y2008F,Y2009,Y2009F,Y2010,Y2010F,Y2011,Y2011F,Y2012,Y2012F,Y2013,Y2013F,Y2014,Y2014F,Y2015,Y2015F,Y2016,Y2016F\r",
      "\r\n",
      "\"5\",\"American Samoa\",\"486\",\"Bananas\",\"5312\",\"Area harvested\",\"ha\",\"500.000000\",\"F\",\"500.000000\",\"F\",\"500.000000\",\"F\",\"500.000000\",\"F\",\"405.000000\",\"\",\"486.000000\",\"\",\"550.000000\",\"F\",\"630.000000\",\"F\",\"700.000000\",\"F\",\"700.000000\",\"F\",\"500.000000\",\"F\",\"470.000000\",\"F\",\"400.000000\",\"F\",\"400.000000\",\"F\",\"400.000000\",\"F\",\"350.000000\",\"F\",\"350.000000\",\"F\",\"350.000000\",\"F\",\"350.000000\",\"F\",\"350.000000\",\"F\",\"350.000000\",\"F\",\"350.000000\",\"F\",\"350.000000\",\"F\",\"350.000000\",\"F\",\"350.000000\",\"F\",\"350.000000\",\"F\",\"350.000000\",\"F\",\"350.000000\",\"F\",\"350.000000\",\"F\",\"349.000000\",\"Im\",\"345.000000\",\"Im\",\"300.000000\",\"F\",\"329.000000\",\"Im\",\"326.000000\",\"Im\",\"324.000000\",\"Im\",\"324.000000\",\"Im\",\"325.000000\",\"Im\",\"327.000000\",\"Im\",\"329.000000\",\"Im\",\"331.000000\",\"Im\",\"330.000000\",\"Im\",\"331.000000\",\"Im\",\"334.000000\",\"Im\",\"337.000000\",\"Im\",\"339.000000\",\"Im\",\"320.000000\",\"F\",\"330.000000\",\"F\",\"344.000000\",\"Im\",\"349.000000\",\"Im\",\"380.000000\",\"F\",\"358.000000\",\"Im\",\"370.000000\",\"F\",\"359.000000\",\"Im\",\"358.000000\",\"Im\",\"358.000000\",\"Im\",\"359.000000\",\"Im\"\r",
      "\r\n",
      "\"5\",\"American Samoa\",\"486\",\"Bananas\",\"5419\",\"Yield\",\"hg/ha\",\"12000.000000\",\"Fc\",\"12000.000000\",\"Fc\",\"14400.000000\",\"Fc\",\"22600.000000\",\"Fc\",\"22395.000000\",\"Fc\",\"13992.000000\",\"Fc\",\"21436.000000\",\"Fc\",\"17857.000000\",\"Fc\",\"27286.000000\",\"Fc\",\"33829.000000\",\"Fc\",\"30000.000000\",\"Fc\",\"29787.000000\",\"Fc\",\"32500.000000\",\"Fc\",\"30000.000000\",\"Fc\",\"27500.000000\",\"Fc\",\"28571.000000\",\"Fc\",\"28571.000000\",\"Fc\",\"28571.000000\",\"Fc\",\"28571.000000\",\"Fc\",\"28571.000000\",\"Fc\",\"28571.000000\",\"Fc\",\"31429.000000\",\"Fc\",\"31429.000000\",\"Fc\",\"28571.000000\",\"Fc\",\"28571.000000\",\"Fc\",\"28571.000000\",\"Fc\",\"28571.000000\",\"Fc\",\"28571.000000\",\"Fc\",\"28857.000000\",\"Fc\",\"28653.000000\",\"Fc\",\"24678.000000\",\"Fc\",\"25000.000000\",\"Fc\",\"24695.000000\",\"Fc\",\"24654.000000\",\"Fc\",\"24613.000000\",\"Fc\",\"24571.000000\",\"Fc\",\"24529.000000\",\"Fc\",\"24485.000000\",\"Fc\",\"24441.000000\",\"Fc\",\"24395.000000\",\"Fc\",\"24347.000000\",\"Fc\",\"24298.000000\",\"Fc\",\"24247.000000\",\"Fc\",\"24188.000000\",\"Fc\",\"24126.000000\",\"Fc\",\"24063.000000\",\"Fc\",\"23939.000000\",\"Fc\",\"23905.000000\",\"Fc\",\"23822.000000\",\"Fc\",\"23736.000000\",\"Fc\",\"23648.000000\",\"Fc\",\"23243.000000\",\"Fc\",\"23435.000000\",\"Fc\",\"23556.000000\",\"Fc\",\"23623.000000\",\"Fc\",\"23591.000000\",\"Fc\"\r",
      "\r\n"
     ]
    }
   ],
   "source": [
    "!head -3 datasets/fao_csv.csv"
   ]
  },
  {
   "cell_type": "markdown",
   "metadata": {},
   "source": [
    "We can also read it in as a \"DataFrame\" and manipulate it:"
   ]
  },
  {
   "cell_type": "code",
   "execution_count": 5,
   "metadata": {
    "collapsed": true
   },
   "outputs": [],
   "source": [
    "df = pd.read_csv('datasets/fao_csv.csv')"
   ]
  },
  {
   "cell_type": "code",
   "execution_count": 6,
   "metadata": {
    "collapsed": false
   },
   "outputs": [
    {
     "data": {
      "text/html": [
       "<div>\n",
       "<style scoped>\n",
       "    .dataframe tbody tr th:only-of-type {\n",
       "        vertical-align: middle;\n",
       "    }\n",
       "\n",
       "    .dataframe tbody tr th {\n",
       "        vertical-align: top;\n",
       "    }\n",
       "\n",
       "    .dataframe thead th {\n",
       "        text-align: right;\n",
       "    }\n",
       "</style>\n",
       "<table border=\"1\" class=\"dataframe\">\n",
       "  <thead>\n",
       "    <tr style=\"text-align: right;\">\n",
       "      <th></th>\n",
       "      <th>Area Code</th>\n",
       "      <th>Area</th>\n",
       "      <th>Item Code</th>\n",
       "      <th>Item</th>\n",
       "      <th>Element Code</th>\n",
       "      <th>Element</th>\n",
       "      <th>Unit</th>\n",
       "      <th>Y1961</th>\n",
       "      <th>Y1961F</th>\n",
       "      <th>Y1962</th>\n",
       "      <th>...</th>\n",
       "      <th>Y2012</th>\n",
       "      <th>Y2012F</th>\n",
       "      <th>Y2013</th>\n",
       "      <th>Y2013F</th>\n",
       "      <th>Y2014</th>\n",
       "      <th>Y2014F</th>\n",
       "      <th>Y2015</th>\n",
       "      <th>Y2015F</th>\n",
       "      <th>Y2016</th>\n",
       "      <th>Y2016F</th>\n",
       "    </tr>\n",
       "  </thead>\n",
       "  <tbody>\n",
       "    <tr>\n",
       "      <th>0</th>\n",
       "      <td>5</td>\n",
       "      <td>American Samoa</td>\n",
       "      <td>486</td>\n",
       "      <td>Bananas</td>\n",
       "      <td>5312</td>\n",
       "      <td>Area harvested</td>\n",
       "      <td>ha</td>\n",
       "      <td>500.0</td>\n",
       "      <td>F</td>\n",
       "      <td>500.0</td>\n",
       "      <td>...</td>\n",
       "      <td>370.0</td>\n",
       "      <td>F</td>\n",
       "      <td>359.0</td>\n",
       "      <td>Im</td>\n",
       "      <td>358.0</td>\n",
       "      <td>Im</td>\n",
       "      <td>358.0</td>\n",
       "      <td>Im</td>\n",
       "      <td>359.0</td>\n",
       "      <td>Im</td>\n",
       "    </tr>\n",
       "    <tr>\n",
       "      <th>1</th>\n",
       "      <td>5</td>\n",
       "      <td>American Samoa</td>\n",
       "      <td>486</td>\n",
       "      <td>Bananas</td>\n",
       "      <td>5419</td>\n",
       "      <td>Yield</td>\n",
       "      <td>hg/ha</td>\n",
       "      <td>12000.0</td>\n",
       "      <td>Fc</td>\n",
       "      <td>12000.0</td>\n",
       "      <td>...</td>\n",
       "      <td>23243.0</td>\n",
       "      <td>Fc</td>\n",
       "      <td>23435.0</td>\n",
       "      <td>Fc</td>\n",
       "      <td>23556.0</td>\n",
       "      <td>Fc</td>\n",
       "      <td>23623.0</td>\n",
       "      <td>Fc</td>\n",
       "      <td>23591.0</td>\n",
       "      <td>Fc</td>\n",
       "    </tr>\n",
       "    <tr>\n",
       "      <th>2</th>\n",
       "      <td>5</td>\n",
       "      <td>American Samoa</td>\n",
       "      <td>486</td>\n",
       "      <td>Bananas</td>\n",
       "      <td>5510</td>\n",
       "      <td>Production</td>\n",
       "      <td>tonnes</td>\n",
       "      <td>600.0</td>\n",
       "      <td>NaN</td>\n",
       "      <td>600.0</td>\n",
       "      <td>...</td>\n",
       "      <td>860.0</td>\n",
       "      <td>F</td>\n",
       "      <td>842.0</td>\n",
       "      <td>Im</td>\n",
       "      <td>844.0</td>\n",
       "      <td>Im</td>\n",
       "      <td>846.0</td>\n",
       "      <td>Im</td>\n",
       "      <td>846.0</td>\n",
       "      <td>Im</td>\n",
       "    </tr>\n",
       "    <tr>\n",
       "      <th>3</th>\n",
       "      <td>5</td>\n",
       "      <td>American Samoa</td>\n",
       "      <td>414</td>\n",
       "      <td>Beans, green</td>\n",
       "      <td>5312</td>\n",
       "      <td>Area harvested</td>\n",
       "      <td>ha</td>\n",
       "      <td>NaN</td>\n",
       "      <td>M</td>\n",
       "      <td>NaN</td>\n",
       "      <td>...</td>\n",
       "      <td>40.0</td>\n",
       "      <td>F</td>\n",
       "      <td>44.0</td>\n",
       "      <td>Im</td>\n",
       "      <td>44.0</td>\n",
       "      <td>Im</td>\n",
       "      <td>43.0</td>\n",
       "      <td>Im</td>\n",
       "      <td>44.0</td>\n",
       "      <td>Im</td>\n",
       "    </tr>\n",
       "    <tr>\n",
       "      <th>4</th>\n",
       "      <td>5</td>\n",
       "      <td>American Samoa</td>\n",
       "      <td>414</td>\n",
       "      <td>Beans, green</td>\n",
       "      <td>5419</td>\n",
       "      <td>Yield</td>\n",
       "      <td>hg/ha</td>\n",
       "      <td>NaN</td>\n",
       "      <td>NaN</td>\n",
       "      <td>NaN</td>\n",
       "      <td>...</td>\n",
       "      <td>30000.0</td>\n",
       "      <td>Fc</td>\n",
       "      <td>29807.0</td>\n",
       "      <td>Fc</td>\n",
       "      <td>29326.0</td>\n",
       "      <td>Fc</td>\n",
       "      <td>29757.0</td>\n",
       "      <td>Fc</td>\n",
       "      <td>29623.0</td>\n",
       "      <td>Fc</td>\n",
       "    </tr>\n",
       "  </tbody>\n",
       "</table>\n",
       "<p>5 rows × 119 columns</p>\n",
       "</div>"
      ],
      "text/plain": [
       "   Area Code            Area  Item Code          Item  Element Code  \\\n",
       "0          5  American Samoa        486       Bananas          5312   \n",
       "1          5  American Samoa        486       Bananas          5419   \n",
       "2          5  American Samoa        486       Bananas          5510   \n",
       "3          5  American Samoa        414  Beans, green          5312   \n",
       "4          5  American Samoa        414  Beans, green          5419   \n",
       "\n",
       "          Element    Unit    Y1961 Y1961F    Y1962   ...      Y2012  Y2012F  \\\n",
       "0  Area harvested      ha    500.0      F    500.0   ...      370.0       F   \n",
       "1           Yield   hg/ha  12000.0     Fc  12000.0   ...    23243.0      Fc   \n",
       "2      Production  tonnes    600.0    NaN    600.0   ...      860.0       F   \n",
       "3  Area harvested      ha      NaN      M      NaN   ...       40.0       F   \n",
       "4           Yield   hg/ha      NaN    NaN      NaN   ...    30000.0      Fc   \n",
       "\n",
       "     Y2013  Y2013F    Y2014  Y2014F    Y2015  Y2015F    Y2016  Y2016F  \n",
       "0    359.0      Im    358.0      Im    358.0      Im    359.0      Im  \n",
       "1  23435.0      Fc  23556.0      Fc  23623.0      Fc  23591.0      Fc  \n",
       "2    842.0      Im    844.0      Im    846.0      Im    846.0      Im  \n",
       "3     44.0      Im     44.0      Im     43.0      Im     44.0      Im  \n",
       "4  29807.0      Fc  29326.0      Fc  29757.0      Fc  29623.0      Fc  \n",
       "\n",
       "[5 rows x 119 columns]"
      ]
     },
     "execution_count": 6,
     "metadata": {},
     "output_type": "execute_result"
    }
   ],
   "source": [
    "df.head()"
   ]
  },
  {
   "cell_type": "markdown",
   "metadata": {},
   "source": [
    "Let's count items by Area and see which are the most common types of items:"
   ]
  },
  {
   "cell_type": "code",
   "execution_count": 14,
   "metadata": {
    "collapsed": false
   },
   "outputs": [],
   "source": [
    "items_by_country = pd.DataFrame(df.groupby(['Item']).Area.count()).reset_index()"
   ]
  },
  {
   "cell_type": "code",
   "execution_count": 20,
   "metadata": {
    "collapsed": false
   },
   "outputs": [
    {
     "data": {
      "text/html": [
       "<div>\n",
       "<style scoped>\n",
       "    .dataframe tbody tr th:only-of-type {\n",
       "        vertical-align: middle;\n",
       "    }\n",
       "\n",
       "    .dataframe tbody tr th {\n",
       "        vertical-align: top;\n",
       "    }\n",
       "\n",
       "    .dataframe thead th {\n",
       "        text-align: right;\n",
       "    }\n",
       "</style>\n",
       "<table border=\"1\" class=\"dataframe\">\n",
       "  <thead>\n",
       "    <tr style=\"text-align: right;\">\n",
       "      <th></th>\n",
       "      <th>Item</th>\n",
       "      <th>Area</th>\n",
       "    </tr>\n",
       "  </thead>\n",
       "  <tbody>\n",
       "    <tr>\n",
       "      <th>41</th>\n",
       "      <td>Fruit Primary</td>\n",
       "      <td>63</td>\n",
       "    </tr>\n",
       "    <tr>\n",
       "      <th>124</th>\n",
       "      <td>Vegetables Primary</td>\n",
       "      <td>60</td>\n",
       "    </tr>\n",
       "    <tr>\n",
       "      <th>28</th>\n",
       "      <td>Coconuts</td>\n",
       "      <td>60</td>\n",
       "    </tr>\n",
       "    <tr>\n",
       "      <th>125</th>\n",
       "      <td>Vegetables, fresh nes</td>\n",
       "      <td>60</td>\n",
       "    </tr>\n",
       "    <tr>\n",
       "      <th>101</th>\n",
       "      <td>Roots and Tubers,Total</td>\n",
       "      <td>58</td>\n",
       "    </tr>\n",
       "    <tr>\n",
       "      <th>6</th>\n",
       "      <td>Bananas</td>\n",
       "      <td>55</td>\n",
       "    </tr>\n",
       "    <tr>\n",
       "      <th>43</th>\n",
       "      <td>Fruit, fresh nes</td>\n",
       "      <td>47</td>\n",
       "    </tr>\n",
       "    <tr>\n",
       "      <th>45</th>\n",
       "      <td>Fruit, tropical fresh nes</td>\n",
       "      <td>40</td>\n",
       "    </tr>\n",
       "    <tr>\n",
       "      <th>16</th>\n",
       "      <td>Cassava</td>\n",
       "      <td>39</td>\n",
       "    </tr>\n",
       "    <tr>\n",
       "      <th>115</th>\n",
       "      <td>Sweet potatoes</td>\n",
       "      <td>36</td>\n",
       "    </tr>\n",
       "  </tbody>\n",
       "</table>\n",
       "</div>"
      ],
      "text/plain": [
       "                          Item  Area\n",
       "41               Fruit Primary    63\n",
       "124         Vegetables Primary    60\n",
       "28                    Coconuts    60\n",
       "125      Vegetables, fresh nes    60\n",
       "101     Roots and Tubers,Total    58\n",
       "6                      Bananas    55\n",
       "43            Fruit, fresh nes    47\n",
       "45   Fruit, tropical fresh nes    40\n",
       "16                     Cassava    39\n",
       "115             Sweet potatoes    36"
      ]
     },
     "execution_count": 20,
     "metadata": {},
     "output_type": "execute_result"
    }
   ],
   "source": [
    "items_by_country.sort_values('Area', ascending=False).head(10)"
   ]
  },
  {
   "cell_type": "markdown",
   "metadata": {},
   "source": [
    "# JSON"
   ]
  },
  {
   "cell_type": "code",
   "execution_count": 24,
   "metadata": {
    "collapsed": true
   },
   "outputs": [],
   "source": [
    "import json"
   ]
  },
  {
   "cell_type": "markdown",
   "metadata": {},
   "source": [
    "We can load in the JSON FAO datasets metadata file:"
   ]
  },
  {
   "cell_type": "code",
   "execution_count": 50,
   "metadata": {
    "collapsed": false
   },
   "outputs": [],
   "source": [
    "j = json.load(open('datasets/fao_json.json', encoding='ISO-8859-1'))"
   ]
  },
  {
   "cell_type": "markdown",
   "metadata": {},
   "source": [
    "We can see how many datasets the FAO has:"
   ]
  },
  {
   "cell_type": "code",
   "execution_count": 56,
   "metadata": {
    "collapsed": false
   },
   "outputs": [
    {
     "data": {
      "text/plain": [
       "78"
      ]
     },
     "execution_count": 56,
     "metadata": {},
     "output_type": "execute_result"
    }
   ],
   "source": [
    "len(j['Datasets']['Dataset'])"
   ]
  },
  {
   "cell_type": "markdown",
   "metadata": {},
   "source": [
    "Let's look at the first object. We can see that the best way to find the object we want may be by looking in the `DatasetName` field:"
   ]
  },
  {
   "cell_type": "code",
   "execution_count": 61,
   "metadata": {
    "collapsed": false
   },
   "outputs": [
    {
     "data": {
      "text/plain": [
       "{'CompressionFormat': 'zip',\n",
       " 'Contact': 'Nienke Beintema and Gert-Jan Stads',\n",
       " 'DatasetCode': 'AE',\n",
       " 'DatasetDescription': 'ASTI collects primary time-series data on agricultural research capacity and spending levels through national survey rounds in over 80 low-and middle-income countries. Data collection is carried out by country focal points, who distribute survey forms to all agencies known to conduct agricultural research in a given country, including government, nonprofit, and higher education agencies. Private-for profit sector coverage is limited, and hence excluded from this dataset. More detailed country- and regional-level data on agricultural research capacity, investment, and outputs are available on www.asti.cgiar.org/data.',\n",
       " 'DatasetName': 'ASTI R&D Indicators: ASTI-Expenditures',\n",
       " 'DateUpdate': '2015-11-3',\n",
       " 'Email': 'asti@cgiar.org',\n",
       " 'FileLocation': 'http://fenixservices.fao.org/faostat/static/bulkdownloads/ASTI_Research_Spending_E_All_Data_(Normalized).zip',\n",
       " 'FileRows': 1525,\n",
       " 'FileSize': '13KB',\n",
       " 'FileType': 'csv',\n",
       " 'Topic': 'All government and nonprofit agencies involved in agricultural research in over 80 low- and middle-income countries. Spending for higher education agencies is estimated in most countries assuming that average spending per researcher at higher education agencies is the same as spending per researcher at government and nonprofit agencies. ASTI is currently exploring ways to more accurately capture agricultural research spending by universities.Private for-profit agencies are not included in ASTI datasets.'}"
      ]
     },
     "execution_count": 61,
     "metadata": {},
     "output_type": "execute_result"
    }
   ],
   "source": [
    "j['Datasets']['Dataset'][0]"
   ]
  },
  {
   "cell_type": "markdown",
   "metadata": {},
   "source": [
    "So, we have to loop through all the dataset objects to find the one for crops:"
   ]
  },
  {
   "cell_type": "code",
   "execution_count": 62,
   "metadata": {
    "collapsed": false,
    "scrolled": false
   },
   "outputs": [],
   "source": [
    "for i in j['Datasets']['Dataset']:\n",
    "    if i['DatasetName'] == 'Production: Crops':\n",
    "        crops = i"
   ]
  },
  {
   "cell_type": "code",
   "execution_count": 63,
   "metadata": {
    "collapsed": false
   },
   "outputs": [
    {
     "data": {
      "text/plain": [
       "{'CompressionFormat': 'zip',\n",
       " 'Contact': 'Mr. Salar Tayyib',\n",
       " 'DatasetCode': 'QC',\n",
       " 'DatasetDescription': 'Crop statistics are recorded for 173 products, covering the following categories: Crops Primary, Fibre Crops Primary, Cereals, Coarse Grain, Citrus Fruit, Fruit, Jute  Jute-like Fibres, Oilcakes Equivalent, Oil crops Primary, Pulses, Roots and Tubers, Treenuts and Vegetables and Melons. Data are expressed in terms of area harvested, production quantity and yield. The objective is to comprehensively cover production of all primary crops for all countries and regions in the world.Cereals: Area and production data on cereals relate to crops harvested for dry grain only. Cereal crops harvested for hay or harvested green for food, feed or silage or used for grazing are therefore excluded. Area data relate to harvested area. Some countries report sown or cultivated area only; however, in these countries the sown or cultivated area does not differ significantly in normal years from the area actually harvested, either because practically the whole area sown is harvested or because the area surveys are conducted around the harvest period.Vegetables, total (including melons): Data relate to vegetable crops grown mainly for human consumption. Crops such as cabbages, pumpkins and carrots, when explicitly cultivated for animal feed, are therefore excluded. Statistics on vegetables are not available in many countries, and the coverage of the reported data differs from country to country. In general, it appears that the data refer to crops grown in field and market gardens mainly for sale, thus excluding crops cultivated in kitchen gardens or small family gardens mainly for household consumption.Fruit, total (excluding melons): Data refer to total production of fresh fruit, whether finally used for direct consumption for food or feed, or processed into different products: dry fruit, juice, jam, alcohol, etc. Generally, production data relate to plantation crops or orchard crops grown mainly for sale. Data on production from scattered trees used mainly for home consumption are not usually collected. Production from wild plants, particularly berries, which is of some importance in certain countries, is generally disregarded by national statistical services. Therefore, the data for the various fruits and berries are rather incomplete. Bananas and plantains: Figures on bananas refer, as far as possible, to all edible fruit-bearing species of the genus Musa except Musa paradisiaca, commonly known as plantain. Unfortunately, several countries make no distinction in their statistics between bananas and plantains and publish only overall estimates. When this occurs and there is some indication or assumption that the data reported refer mainly to bananas, the data are included. The production data on bananas and plantains reported by the various countries are also difficult to compare because a number of countries report in terms of bunches, which generally means that the stalk is included in the weight. Dates, plantains and total grapes are included in the \\x93total fruit\\x94 aggregated figures, while olives are excluded.        Treenuts, aggregated: Production of nuts (including chestnuts) relates to nuts in the shell or in the husk. Statistics are very scanty and generally refer only to crops for sale. In addition to the kind of nuts shown separately, production data include all other treenuts mainly used as dessert or table nuts, such as pecan nuts, pili nuts, sapucaia nuts and macadamia nuts. Nuts mainly used for flavouring beverages are excludedas are masticatory and stimulant nuts and nuts used mainly for the extraction of oil or butter, including areca/betel nuts, cola nuts, illipe nuts, karate nuts, coconuts, tung nuts, oilpalm nuts etc.',\n",
       " 'DatasetName': 'Production: Crops',\n",
       " 'DateUpdate': '2018-05-28',\n",
       " 'Email': 'faostat@fao.org',\n",
       " 'FileLocation': 'http://fenixservices.fao.org/faostat/static/bulkdownloads/Production_Crops_E_All_Data_(Normalized).zip',\n",
       " 'FileRows': 2306419,\n",
       " 'FileSize': '18393KB',\n",
       " 'FileType': 'csv',\n",
       " 'Topic': 'Most crop products under agricultural activity.'}"
      ]
     },
     "execution_count": 63,
     "metadata": {},
     "output_type": "execute_result"
    }
   ],
   "source": [
    "crops"
   ]
  },
  {
   "cell_type": "markdown",
   "metadata": {},
   "source": [
    "# XML"
   ]
  },
  {
   "cell_type": "code",
   "execution_count": 64,
   "metadata": {
    "collapsed": true
   },
   "outputs": [],
   "source": [
    "import xml.etree.ElementTree as ET"
   ]
  },
  {
   "cell_type": "code",
   "execution_count": 69,
   "metadata": {
    "collapsed": true
   },
   "outputs": [],
   "source": [
    "tree = ET.parse('datasets/fao_xml.xml')"
   ]
  },
  {
   "cell_type": "code",
   "execution_count": 70,
   "metadata": {
    "collapsed": false
   },
   "outputs": [],
   "source": [
    "root = tree.getroot()"
   ]
  },
  {
   "cell_type": "markdown",
   "metadata": {},
   "source": [
    "We can check that the XML file contains the same number of data objects as the JSON file:"
   ]
  },
  {
   "cell_type": "code",
   "execution_count": 75,
   "metadata": {
    "collapsed": false
   },
   "outputs": [
    {
     "data": {
      "text/plain": [
       "78"
      ]
     },
     "execution_count": 75,
     "metadata": {},
     "output_type": "execute_result"
    }
   ],
   "source": [
    "len(root.getchildren())"
   ]
  },
  {
   "cell_type": "code",
   "execution_count": 107,
   "metadata": {
    "collapsed": false
   },
   "outputs": [],
   "source": [
    "sample = root.getchildren()[0]"
   ]
  },
  {
   "cell_type": "code",
   "execution_count": 106,
   "metadata": {
    "collapsed": false
   },
   "outputs": [
    {
     "name": "stdout",
     "output_type": "stream",
     "text": [
      "DatasetCode: AF\n",
      "DatasetName: ASTI R&D Indicators: ASTI-Researchers\n",
      "Topic: All government, higher education, and nonprofit agencies involved in agricultural research in over 80 low- and middle-income countries. Private for-profit agencies are not included in ASTI datasets.\n",
      "DatasetDescription: ASTI collects primary time-series data on agricultural research capacity and spending levels through national survey rounds in over 80 low-and middle-income countries. Data collection is carried out by country focal points, who distribute survey forms to all agencies known to conduct agricultural research in a given country, including government, nonprofit, and higher education agencies. Private-for profit sector coverage is limited, and hence excluded from this dataset. More detailed country- and regional-level data on agricultural research capacity, investment, and outputs are available on www.asti.cgiar.org/data.\n",
      "Contact: Nienke Beintema and Gert-Jan Stads\n",
      "Email: asti@cgiar.org\n",
      "DateUpdate: 2015-11-03\n",
      "CompressionFormat: zip\n",
      "FileType: csv\n",
      "FileSize: 12KB\n",
      "FileRows: 1437\n",
      "FileLocation: http://fenixservices.fao.org/faostat/static/bulkdownloads/ASTI_Researchers_E_All_Data_(Normalized).zip\n"
     ]
    }
   ],
   "source": [
    "for elem in sample.getchildren():\n",
    "    print(elem.tag + ': ' + elem.text)"
   ]
  },
  {
   "cell_type": "markdown",
   "metadata": {},
   "source": [
    "Find our object using XPath:"
   ]
  },
  {
   "cell_type": "code",
   "execution_count": 149,
   "metadata": {
    "collapsed": false
   },
   "outputs": [],
   "source": [
    "crops = root.find(\"./Dataset[DatasetName='Production: Crops']\")"
   ]
  },
  {
   "cell_type": "code",
   "execution_count": 150,
   "metadata": {
    "collapsed": false
   },
   "outputs": [
    {
     "name": "stdout",
     "output_type": "stream",
     "text": [
      "DatasetCode: QC\n",
      "DatasetName: Production: Crops\n",
      "Topic: Most crop products under agricultural activity.\n",
      "DatasetDescription: Crop statistics are recorded for 173 products, covering the following categories: Crops Primary, Fibre Crops Primary, Cereals, Coarse Grain, Citrus Fruit, Fruit, Jute  Jute-like Fibres, Oilcakes Equivalent, Oil crops Primary, Pulses, Roots and Tubers, Treenuts and Vegetables and Melons. Data are expressed in terms of area harvested, production quantity and yield. The objective is to comprehensively cover production of all primary crops for all countries and regions in the world.Cereals: Area and production data on cereals relate to crops harvested for dry grain only. Cereal crops harvested for hay or harvested green for food, feed or silage or used for grazing are therefore excluded. Area data relate to harvested area. Some countries report sown or cultivated area only; however, in these countries the sown or cultivated area does not differ significantly in normal years from the area actually harvested, either because practically the whole area sown is harvested or because the area surveys are conducted around the harvest period.Vegetables, total (including melons): Data relate to vegetable crops grown mainly for human consumption. Crops such as cabbages, pumpkins and carrots, when explicitly cultivated for animal feed, are therefore excluded. Statistics on vegetables are not available in many countries, and the coverage of the reported data differs from country to country. In general, it appears that the data refer to crops grown in field and market gardens mainly for sale, thus excluding crops cultivated in kitchen gardens or small family gardens mainly for household consumption.Fruit, total (excluding melons): Data refer to total production of fresh fruit, whether finally used for direct consumption for food or feed, or processed into different products: dry fruit, juice, jam, alcohol, etc. Generally, production data relate to plantation crops or orchard crops grown mainly for sale. Data on production from scattered trees used mainly for home consumption are not usually collected. Production from wild plants, particularly berries, which is of some importance in certain countries, is generally disregarded by national statistical services. Therefore, the data for the various fruits and berries are rather incomplete. Bananas and plantains: Figures on bananas refer, as far as possible, to all edible fruit-bearing species of the genus Musa except Musa paradisiaca, commonly known as plantain. Unfortunately, several countries make no distinction in their statistics between bananas and plantains and publish only overall estimates. When this occurs and there is some indication or assumption that the data reported refer mainly to bananas, the data are included. The production data on bananas and plantains reported by the various countries are also difficult to compare because a number of countries report in terms of bunches, which generally means that the stalk is included in the weight. Dates, plantains and total grapes are included in the total fruit aggregated figures, while olives are excluded.        Treenuts, aggregated: Production of nuts (including chestnuts) relates to nuts in the shell or in the husk. Statistics are very scanty and generally refer only to crops for sale. In addition to the kind of nuts shown separately, production data include all other treenuts mainly used as dessert or table nuts, such as pecan nuts, pili nuts, sapucaia nuts and macadamia nuts. Nuts mainly used for flavouring beverages are excludedas are masticatory and stimulant nuts and nuts used mainly for the extraction of oil or butter, including areca/betel nuts, cola nuts, illipe nuts, karate nuts, coconuts, tung nuts, oilpalm nuts etc.\n",
      "Contact: Mr. Salar Tayyib\n",
      "Email: faostat@fao.org\n",
      "DateUpdate: 2018-05-28\n",
      "CompressionFormat: zip\n",
      "FileType: csv\n",
      "FileSize: 18393KB\n",
      "FileRows: 2306419\n",
      "FileLocation: http://fenixservices.fao.org/faostat/static/bulkdownloads/Production_Crops_E_All_Data_(Normalized).zip\n"
     ]
    }
   ],
   "source": [
    "for elem in crops.getchildren():\n",
    "    print(elem.tag + ': ' + elem.text)"
   ]
  }
 ],
 "metadata": {
  "kernelspec": {
   "display_name": "Python 3",
   "language": "python",
   "name": "python3"
  },
  "language_info": {
   "codemirror_mode": {
    "name": "ipython",
    "version": 3
   },
   "file_extension": ".py",
   "mimetype": "text/x-python",
   "name": "python",
   "nbconvert_exporter": "python",
   "pygments_lexer": "ipython3",
   "version": "3.5.3"
  }
 },
 "nbformat": 4,
 "nbformat_minor": 0
}
